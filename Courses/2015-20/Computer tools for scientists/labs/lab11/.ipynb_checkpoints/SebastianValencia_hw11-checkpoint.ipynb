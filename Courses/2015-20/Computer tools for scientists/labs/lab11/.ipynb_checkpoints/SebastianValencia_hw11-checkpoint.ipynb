{
 "cells": [
  {
   "cell_type": "code",
   "execution_count": 23,
   "metadata": {
    "collapsed": false
   },
   "outputs": [
    {
     "data": {
      "text/plain": [
       "1.0717734628269182"
      ]
     },
     "execution_count": 23,
     "metadata": {},
     "output_type": "execute_result"
    }
   ],
   "source": [
    "def newton_method(fn, dfn, initval, max_iterations, epsilon):\n",
    "    x = initval\n",
    "    for i in range(max_iterations):\n",
    "        if abs(fn(x)) <= epsilon:\n",
    "            break\n",
    "        x = x - fn(x) / dfn(x)\n",
    "    return x\n",
    "\n",
    "def foo(x):\n",
    "    return x ** 10 - 2\n",
    "\n",
    "def foo_prime(x):\n",
    "    return 10 * x ** 11\n",
    "\n",
    "newton_method(foo, foo_prime, 0.9, 100, 0.00000001) # El valor requerido\n"
   ]
  },
  {
   "cell_type": "code",
   "execution_count": 24,
   "metadata": {
    "collapsed": false
   },
   "outputs": [],
   "source": [
    "# Segundo punto\n",
    "def polynomial(x):\n",
    "    return x ** 3- 4 * x ** 2 + x + 2\n",
    "poly = [2, 1, -4, 1]"
   ]
  },
  {
   "cell_type": "code",
   "execution_count": 25,
   "metadata": {
    "collapsed": true
   },
   "outputs": [],
   "source": [
    "def evaluate(lst, x):\n",
    "    n, tmp = 0, 0\n",
    "    for a in lst:\n",
    "        tmp = tmp + (a * (x**n))\n",
    "        n += 1\n",
    "    return tmp\n",
    "\n",
    "def derivate(poly):\n",
    "    deriv_poly = [poly[i] * i for i in range(1, len(poly))]\n",
    "    return deriv_poly\n",
    "        "
   ]
  },
  {
   "cell_type": "code",
   "execution_count": 26,
   "metadata": {
    "collapsed": false
   },
   "outputs": [
    {
     "name": "stdout",
     "output_type": "stream",
     "text": [
      "[-0.5609999999999996, 1.0000000000000016, 3.5619999999997196]\n"
     ]
    }
   ],
   "source": [
    "f = polynomial\n",
    " \n",
    "step = 0.001\n",
    "start = -1\n",
    "ROOTS = 3\n",
    "\n",
    "ans = []\n",
    " \n",
    "sign = f(start) > 0\n",
    " \n",
    "x = start\n",
    "while len(ans) != ROOTS:\n",
    "    value = f(x)\n",
    " \n",
    "    if value == 0:\n",
    "        ans.append(x)\n",
    "    elif (value > 0) != sign:\n",
    "        ans.append(x)\n",
    " \n",
    "    # Update our sign\n",
    "    sign = value > 0\n",
    " \n",
    "    x += step\n",
    "    \n",
    "print ans\n",
    "        "
   ]
  },
  {
   "cell_type": "code",
   "execution_count": null,
   "metadata": {
    "collapsed": false
   },
   "outputs": [],
   "source": []
  }
 ],
 "metadata": {
  "kernelspec": {
   "display_name": "Python 2",
   "language": "python",
   "name": "python2"
  },
  "language_info": {
   "codemirror_mode": {
    "name": "ipython",
    "version": 2
   },
   "file_extension": ".py",
   "mimetype": "text/x-python",
   "name": "python",
   "nbconvert_exporter": "python",
   "pygments_lexer": "ipython2",
   "version": "2.7.10"
  }
 },
 "nbformat": 4,
 "nbformat_minor": 0
}
