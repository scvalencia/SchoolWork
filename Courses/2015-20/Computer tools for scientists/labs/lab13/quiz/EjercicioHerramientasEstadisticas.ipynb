{
 "cells": [
  {
   "cell_type": "code",
   "execution_count": null,
   "metadata": {
    "collapsed": false
   },
   "outputs": [],
   "source": [
    "%pylab inline\n",
    "import scipy.stats\n",
    "def RanSum(N):\n",
    "    i=0\n",
    "    sum=0.\n",
    "    for i in range(N):\n",
    "        sum+=random.random()\n",
    "    return sum\n",
    "def lanzamientos(M,N):\n",
    "    tiros=[]\n",
    "    for i in range(M):\n",
    "        tiros.append(RanSum(N))\n",
    "    return tiros\n",
    "def coinflip(N):  \n",
    "    cara = 0\n",
    "    sello = 0\n",
    "    i=0\n",
    "    while i < N:\n",
    "        x = np.random.randint(0, 10)/5.0\n",
    "        if x >= 1.0:\n",
    "            cara+=1\n",
    "        elif x<1.0:\n",
    "            sello+=1\n",
    "        i+=1\n",
    "    return cara/float(N), sello/float(N)\n",
    "def realizaciones(M, N):\n",
    "    caras=[]\n",
    "    for i in range(M):\n",
    "        x, y = coinflip(N)\n",
    "        caras.append(x)\n",
    "    return caras"
   ]
  }
 ],
 "metadata": {
  "kernelspec": {
   "display_name": "Python 2",
   "language": "python",
   "name": "python2"
  },
  "language_info": {
   "codemirror_mode": {
    "name": "ipython",
    "version": 2
   },
   "file_extension": ".py",
   "mimetype": "text/x-python",
   "name": "python",
   "nbconvert_exporter": "python",
   "pygments_lexer": "ipython2",
   "version": "2.7.6"
  }
 },
 "nbformat": 4,
 "nbformat_minor": 0
}
