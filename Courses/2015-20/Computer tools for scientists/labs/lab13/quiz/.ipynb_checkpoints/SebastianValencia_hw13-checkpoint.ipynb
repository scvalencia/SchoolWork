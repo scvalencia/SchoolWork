{
 "cells": [
  {
   "cell_type": "markdown",
   "metadata": {},
   "source": [
    "## PRIMER PUNTO"
   ]
  },
  {
   "cell_type": "code",
   "execution_count": 1,
   "metadata": {
    "collapsed": false
   },
   "outputs": [
    {
     "name": "stdout",
     "output_type": "stream",
     "text": [
      "Populating the interactive namespace from numpy and matplotlib\n"
     ]
    },
    {
     "data": {
      "image/png": "[encoded data removed]",
      "text/plain": [
       "<matplotlib.figure.Figure at 0x105c79d50>"
      ]
     },
     "metadata": {},
     "output_type": "display_data"
    }
   ],
   "source": [
    "%pylab inline\n",
    "\n",
    "import scipy.stats\n",
    "from scipy.optimize import curve_fit, leastsq\n",
    "\n",
    "def RanSum(N):\n",
    "    i = 0\n",
    "    sum = 0.\n",
    "    for i in range(N):\n",
    "        sum += random.random()\n",
    "    return sum\n",
    "\n",
    "def lanzamientos(M,N):\n",
    "    tiros = []\n",
    "    for i in range(M):\n",
    "        tiros.append(RanSum(N))\n",
    "    return tiros\n",
    "\n",
    "def set_data(lst):\n",
    "    ans = []\n",
    "    j = 0\n",
    "    i = 1\n",
    "    while i < len(lst):\n",
    "        ans.append((lst[i] + lst[i - 1]) / 2.0)\n",
    "        j += 1\n",
    "        i += 1\n",
    "    return ans\n",
    "\n",
    "hist(lanzamientos(10000,10), 100)\n",
    "title(u\"Distribución de los datos\")\n",
    "show()"
   ]
  },
  {
   "cell_type": "markdown",
   "metadata": {},
   "source": [
    "# Gráfica de los datos, parece por el histograma que la distribución es normal"
   ]
  },
  {
   "cell_type": "code",
   "execution_count": 2,
   "metadata": {
    "collapsed": false
   },
   "outputs": [
    {
     "data": {
      "text/plain": [
       "<matplotlib.collections.PathCollection at 0x108e6fe10>"
      ]
     },
     "execution_count": 2,
     "metadata": {},
     "output_type": "execute_result"
    },
    {
     "data": {
      "image/png": "[encoded data removed]",
      "text/plain": [
       "<matplotlib.figure.Figure at 0x105c09d50>"
      ]
     },
     "metadata": {},
     "output_type": "display_data"
    }
   ],
   "source": [
    "freq, limits = np.histogram(lanzamientos(1000, 10))\n",
    "scatter(set_data(list(limits)),freq, label=\"obs\")"
   ]
  },
  {
   "cell_type": "markdown",
   "metadata": {},
   "source": [
    "# Ajuste de los datos, asumiendo que su distribución es normal"
   ]
  },
  {
   "cell_type": "code",
   "execution_count": 3,
   "metadata": {
    "collapsed": false
   },
   "outputs": [
    {
     "data": {
      "text/plain": [
       "<matplotlib.collections.PathCollection at 0x108fa6bd0>"
      ]
     },
     "execution_count": 3,
     "metadata": {},
     "output_type": "execute_result"
    },
    {
     "data": {
      "image/png": "[encoded data removed]",
      "text/plain": [
       "<matplotlib.figure.Figure at 0x108ec5050>"
      ]
     },
     "metadata": {},
     "output_type": "display_data"
    }
   ],
   "source": [
    "def gaussiana(x, ampl, x_0, sigma):\n",
    "    return ampl*exp( -(x-x_0)**2/sigma )\n",
    "\n",
    "p_opt, p_cov = curve_fit( gaussiana, set_data(list(limits)), freq)\n",
    "y_opt = gaussiana(set_data(list(limits)), p_opt[0], p_opt[1], p_opt[2])\n",
    "\n",
    "scatter(set_data(list(limits)),freq, label=\"obs\")\n",
    "scatter(set_data(list(limits)),y_opt, c=\"r\", label=\"ajuste\")"
   ]
  },
  {
   "cell_type": "markdown",
   "metadata": {},
   "source": [
    "Se estima que la distribución es normal, es decir, los datos se ajustan debidamente con una distribución Gaussiana"
   ]
  },
  {
   "cell_type": "code",
   "execution_count": 123,
   "metadata": {
    "collapsed": false
   },
   "outputs": [
    {
     "name": "stdout",
     "output_type": "stream",
     "text": [
      "[ 224.6073217     5.00472408    1.79412012]\n"
     ]
    }
   ],
   "source": [
    "print p_opt"
   ]
  },
  {
   "cell_type": "markdown",
   "metadata": {},
   "source": [
    "Los parámetros de mejor ajuste encontrados son $A = 224.6$, $x_0 =5.00$, y $\\sigma = 1.80$"
   ]
  },
  {
   "cell_type": "markdown",
   "metadata": {},
   "source": [
    "## SEGUNDO PUNTO"
   ]
  },
  {
   "cell_type": "code",
   "execution_count": 4,
   "metadata": {
    "collapsed": false
   },
   "outputs": [
    {
     "data": {
      "image/png": "[encoded data removed]",
      "text/plain": [
       "<matplotlib.figure.Figure at 0x108ee9bd0>"
      ]
     },
     "metadata": {},
     "output_type": "display_data"
    }
   ],
   "source": [
    "def coinflip(N):  \n",
    "    cara = 0\n",
    "    sello = 0\n",
    "    i=0\n",
    "    while i < N:\n",
    "        x = np.random.randint(0, 10)/5.0\n",
    "        if x >= 1.0:\n",
    "            cara+=1\n",
    "        elif x<1.0:\n",
    "            sello+=1\n",
    "        i+=1\n",
    "    return cara/float(N), sello/float(N)\n",
    "\n",
    "def realizaciones(M, N):\n",
    "    caras=[]\n",
    "    for i in range(M):\n",
    "        x, y = coinflip(N)\n",
    "        caras.append(x)\n",
    "    return caras\n",
    "\n",
    "def set_data(lst):\n",
    "    ans = []\n",
    "    j = 0\n",
    "    i = 1\n",
    "    while i < len(lst):\n",
    "        ans.append((lst[i] + lst[i - 1]) / 2.0)\n",
    "        j += 1\n",
    "        i += 1\n",
    "    return ans\n",
    "\n",
    "hist(realizaciones(1000,10), 100)\n",
    "title(u\"Distribución de los datos\")\n",
    "show()"
   ]
  },
  {
   "cell_type": "markdown",
   "metadata": {},
   "source": [
    "# Gráfica de los datos, parece por el histograma que la distribución es binom"
   ]
  },
  {
   "cell_type": "code",
   "execution_count": 6,
   "metadata": {
    "collapsed": false
   },
   "outputs": [
    {
     "data": {
      "text/plain": [
       "<matplotlib.collections.PathCollection at 0x108b8c590>"
      ]
     },
     "execution_count": 6,
     "metadata": {},
     "output_type": "execute_result"
    },
    {
     "data": {
      "image/png": "[encoded data removed]",
      "text/plain": [
       "<matplotlib.figure.Figure at 0x109305910>"
      ]
     },
     "metadata": {},
     "output_type": "display_data"
    }
   ],
   "source": [
    "freq, limits = np.histogram(realizaciones(10000, 100))\n",
    "scatter(set_data(list(limits)),freq, label=\"obs\")"
   ]
  },
  {
   "cell_type": "markdown",
   "metadata": {},
   "source": [
    "# Ajuste de los datos, asumiendo que su distribución es binom, sin embargo, como N es grande, esto tiende a una normal"
   ]
  },
  {
   "cell_type": "code",
   "execution_count": 7,
   "metadata": {
    "collapsed": false
   },
   "outputs": [
    {
     "data": {
      "text/plain": [
       "<matplotlib.collections.PathCollection at 0x108cb2dd0>"
      ]
     },
     "execution_count": 7,
     "metadata": {},
     "output_type": "execute_result"
    },
    {
     "data": {
      "image/png": "[encoded data removed]",
      "text/plain": [
       "<matplotlib.figure.Figure at 0x108a811d0>"
      ]
     },
     "metadata": {},
     "output_type": "display_data"
    }
   ],
   "source": [
    "import math\n",
    "\n",
    "def binom(x, n, p):\n",
    "    f = math.factorial\n",
    "    aux = f(n) / f(x) / f(n - x)\n",
    "    return aux * (p ** x) * ((1 - p) ** (n - x))\n",
    "\n",
    "p_opt, p_cov = curve_fit(gaussiana, set_data(list(limits)), freq)\n",
    "y_opt = gaussiana(set_data(list(limits)), p_opt[0], p_opt[1], p_opt[2])\n",
    "\n",
    "scatter(set_data(list(limits)),freq, label=\"obs\")\n",
    "scatter(set_data(list(limits)),y_opt, c=\"r\", label=\"ajuste\")"
   ]
  },
  {
   "cell_type": "markdown",
   "metadata": {},
   "source": [
    "Se estima que la distribución es normal, es decir, los datos se ajustan debidamente con una distribución Gaussiana"
   ]
  },
  {
   "cell_type": "code",
   "execution_count": 30,
   "metadata": {
    "collapsed": false
   },
   "outputs": [
    {
     "name": "stdout",
     "output_type": "stream",
     "text": [
      "[ 250.91173004    4.98947213    1.91004531]\n"
     ]
    }
   ],
   "source": [
    "print p_opt"
   ]
  },
  {
   "cell_type": "markdown",
   "metadata": {},
   "source": [
    "Los parámetros de mejor ajuste encontrados son $A = 250.91$, $x_0 =4.98$, y $\\sigma = 1.91$"
   ]
  }
 ],
 "metadata": {
  "kernelspec": {
   "display_name": "Python 2",
   "language": "python",
   "name": "python2"
  },
  "language_info": {
   "codemirror_mode": {
    "name": "ipython",
    "version": 2
   },
   "file_extension": ".py",
   "mimetype": "text/x-python",
   "name": "python",
   "nbconvert_exporter": "python",
   "pygments_lexer": "ipython2",
   "version": "2.7.10"
  }
 },
 "nbformat": 4,
 "nbformat_minor": 0
}
